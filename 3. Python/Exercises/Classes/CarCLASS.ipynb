{
 "cells": [
  {
   "cell_type": "markdown",
   "metadata": {},
   "source": [
    "### Create a car class. Give the vehicle a maximum speed, and keep track of the current speed of the vehicle. It doesn't make sense for the speed to be adjusted directly, so put an underscore in front of it and implement a speed getter as well as accelerate and brake setter methods that change the speed in a logical way. Do your methods make sense? Does braking past 0 cause the speed to increase? Can you accelerate past the car's top speed?"
   ]
  },
  {
   "cell_type": "code",
   "execution_count": 4,
   "metadata": {},
   "outputs": [],
   "source": [
    "# CLASS defines a collection of ATTRIBUTES(variables) and METHODS(functions) that the OBJECTS will have\n",
    "# CLASS defines ther STRUCTURE and behaviour those OBJECTS will have.\n",
    "\n",
    "# CLASS Dog\n",
    "# ATTRIBUTES: Name, Age, Bread\n",
    "# METHODS: Bark, Sit, Fetch\n",
    "\n",
    "# OBJECTS are instances of a class\n",
    "class Car:\n",
    "    def __init__(self, model, max_speed):   # __init__() METHOD - CONSTRUCTOR called automatically when a new OBJECT is created\n",
    "                                            # __init__() INITIALIASES the OBJECT's ATTRIBUTE\n",
    "        self.model = model                  # self.model(self-current instance of the class) initialises attribute 'model'\n",
    "        self.max_speed = max_speed          # initialises attribute 'max_speed'\n",
    "        self._current_speed = 0             # instance attribute to initialise car's current speed\n",
    "        # underscore means you cannot modify this directly, it's private\n",
    "\n",
    "# METHOD OF A CLASS - GETTER \n",
    "    def get_speed(self):               # GETTER returns current_speed\n",
    "        return self._current_speed          \n",
    "\n",
    "# METHOD to accelerate the car - SETTER\n",
    "    def accelerate(self, increase): \n",
    "        # Setter to increase speed #\n",
    "        new_speed = self._current_speed + increase \n",
    "        self._current_speed = min(new_speed, self.max_speed)\n",
    "        # return self._current_speed # don't need to return it because the SETTER already does that\n",
    "        \n",
    "\n",
    "# METHOD to brake the car - SETTER\n",
    "    def brake(self, decrease):           \n",
    "        # Setter to decrease speed #\n",
    "        new_speed = self._current_speed - decrease \n",
    "        self._current_speed = max(new_speed, 0)\n",
    "        # return self._current_speed don't need to return it because the SETTER already does that"
   ]
  },
  {
   "cell_type": "code",
   "execution_count": 6,
   "metadata": {},
   "outputs": [
    {
     "name": "stdout",
     "output_type": "stream",
     "text": [
      "0\n",
      "200\n",
      "180\n"
     ]
    }
   ],
   "source": [
    "# Creating OBJECTS (instance) by accessing its attributes and calling its methods from CLASS Dog\n",
    "car1 = Car(\"Tesla Model S\",200)\n",
    "print(car1.get_speed())  \n",
    "car1.accelerate(250)\n",
    "print(car1.get_speed())\n",
    "car1.brake(20)\n",
    "print(car1.get_speed())\n"
   ]
  }
 ],
 "metadata": {
  "kernelspec": {
   "display_name": "Python 3",
   "language": "python",
   "name": "python3"
  },
  "language_info": {
   "codemirror_mode": {
    "name": "ipython",
    "version": 3
   },
   "file_extension": ".py",
   "mimetype": "text/x-python",
   "name": "python",
   "nbconvert_exporter": "python",
   "pygments_lexer": "ipython3",
   "version": "3.12.4"
  }
 },
 "nbformat": 4,
 "nbformat_minor": 2
}
