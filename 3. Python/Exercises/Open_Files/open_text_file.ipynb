{
 "cells": [
  {
   "cell_type": "markdown",
   "metadata": {},
   "source": [
    "# TRY & EXCEPT BLOCKS"
   ]
  },
  {
   "cell_type": "markdown",
   "metadata": {},
   "source": [
    "##### Mode\tDescription\n",
    "#### 'r' - This is the default mode. It Opens file for reading.\n",
    "#### 'w'\t- This Mode Opens file for writing. If file does not exist, it creates a new file. If file exists it truncates the file.\n",
    "#### 'x'\t- Creates a new file. If file already exists, the operation fails.\n",
    "#### 'a'\t- Open file in append mode. If file does not exist, it creates a new file.\n",
    "#### 't'\t- This is the default mode. It opens in text mode.\n",
    "#### 'b'\t- This opens in binary mode.\n"
   ]
  },
  {
   "cell_type": "code",
   "execution_count": 1,
   "metadata": {},
   "outputs": [],
   "source": [
    "try:\n",
    "    file = open(\"order.txt\")\n",
    "except:\n",
    "    print(\"ERROR // File does not exist // \")"
   ]
  },
  {
   "cell_type": "code",
   "execution_count": 2,
   "metadata": {},
   "outputs": [
    {
     "name": "stdout",
     "output_type": "stream",
     "text": [
      "['potatoes\\n']\n"
     ]
    }
   ],
   "source": [
    "# File not found Error, we will need to include CLOSE method\n",
    "try:\n",
    "    file = open(\"order.txt\")\n",
    "    file_line_list = file.readlines()\n",
    "    print(file_line_list)\n",
    "    file.close()\n",
    "except FileNotFoundError as errmsg:\n",
    "    print(errmsg)\n"
   ]
  },
  {
   "cell_type": "code",
   "execution_count": 4,
   "metadata": {},
   "outputs": [
    {
     "name": "stdout",
     "output_type": "stream",
     "text": [
      "['potatoes\\n']\n"
     ]
    }
   ],
   "source": [
    "# setting up open txt file as a function\n",
    "def read_file(file_name):\n",
    "    try:\n",
    "        file = open(file_name)\n",
    "        file_line_list = file.readlines()\n",
    "        file.close()\n",
    "        return file_line_list\n",
    "    except FileNotFoundError as errmsg:\n",
    "        print(\"File cannot be found\")\n",
    "        print(errmsg)\n",
    "        \n",
    "print(read_file(\"order.txt\"))\n"
   ]
  },
  {
   "cell_type": "code",
   "execution_count": 5,
   "metadata": {},
   "outputs": [
    {
     "name": "stdout",
     "output_type": "stream",
     "text": [
      "['potatoes\\n']\n"
     ]
    }
   ],
   "source": [
    "# OR with open function, which OPENS & CLOSES the file\n",
    "def read_file(file_name):\n",
    "    try:\n",
    "        with open(file_name) as file: # with opens and closes the file\n",
    "            file_line_list = file.readlines()\n",
    "        return file_line_list\n",
    "    except FileNotFoundError as errmsg:\n",
    "        print(\"File cannot be found\")\n",
    "        print(errmsg)\n",
    "        \n",
    "print(read_file(\"order.txt\"))\n"
   ]
  },
  {
   "cell_type": "code",
   "execution_count": 6,
   "metadata": {},
   "outputs": [
    {
     "name": "stdout",
     "output_type": "stream",
     "text": [
      "['potatoes\\n']\n",
      "['potatoes\\n']\n"
     ]
    }
   ],
   "source": [
    "# read text file function\n",
    "def read_file(file_name):\n",
    "    try:                                        # with opens and closes the file\n",
    "        with open(file_name, \"r\") as file:      # r - opens & reads the file\n",
    "            file_line_list = file.readlines()   # readlines() - reads all the lines from a file and returns them as a list of strings\n",
    "        return file_line_list\n",
    "    except FileNotFoundError as errmsg:\n",
    "        print(\"File cannot be found\")\n",
    "        print(errmsg)\n",
    "        \n",
    "print(read_file(\"order.txt\"))\n",
    "\n",
    "# write/overwrite text file\n",
    "def write_to_file(file_name, order_item):    #takes an order item and adds to the file\n",
    "    try:\n",
    "        with open(file_name, \"w\") as file:\n",
    "            file.write(order_item + '\\n')\n",
    "    except FileNotFoundError as errmsg:\n",
    "        print(\"File cannot be found\")\n",
    "        print(errmsg)\n",
    "        \n",
    "\n",
    "write_to_file(\"order.txt\",\"potatoes\")\n",
    "print(read_file(\"order.txt\"))\n",
    "\n"
   ]
  }
 ],
 "metadata": {
  "kernelspec": {
   "display_name": "Python 3",
   "language": "python",
   "name": "python3"
  },
  "language_info": {
   "codemirror_mode": {
    "name": "ipython",
    "version": 3
   },
   "file_extension": ".py",
   "mimetype": "text/x-python",
   "name": "python",
   "nbconvert_exporter": "python",
   "pygments_lexer": "ipython3",
   "version": "3.12.4"
  }
 },
 "nbformat": 4,
 "nbformat_minor": 2
}
