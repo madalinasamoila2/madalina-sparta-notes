{
 "cells": [
  {
   "cell_type": "code",
   "execution_count": 1,
   "metadata": {},
   "outputs": [],
   "source": [
    "import csv # python's built in csv module, provides functionality to read from and write to CSV\n",
    "\n",
    "# OPEN & READ CSV file\n",
    "def read_csv_file(file_name, columns_to_keep):  # defines a function read_csv_file that takes the name/path of the CSV file\n",
    "    try:                                                 # with opens and closes the csv file\n",
    "        with open(file_name, newline= '') as csv_file:   # with statement to open the file safely (automatically closes it after the block)\n",
    "            csvreader = csv.reader(csv_file, delimiter= \",\" )  # newline='' tells python not to alter newline characters\n",
    "            return list(csvreader)\n",
    "    except FileNotFoundError as errmsg:\n",
    "        print(\"File cannot be found\")\n",
    "        print(errmsg)\n",
    "        \n",
    "# print(read_csv_file(\"customer_details.csv\"))\n",
    "# returns a list \n",
    "\n",
    "columns_to_keep = [\"Name\", \"Email\", \"Country\"]\n",
    "def transform_data(rows):\n",
    "\n",
    "    return [[row[2], row[3], row[5], row[9]] for row in rows]\n",
    " \n",
    "\n"
   ]
  },
  {
   "cell_type": "code",
   "execution_count": 14,
   "metadata": {},
   "outputs": [
    {
     "name": "stdout",
     "output_type": "stream",
     "text": [
      "[{'Title': 'Honorable', 'firstName': 'Alasdair', 'lastName': 'Beeckx', 'gender': 'Male', 'email': 'abeeckx0@un.org'}, {'Title': 'Dr', 'firstName': 'Saunder', 'lastName': 'Murname', 'gender': 'Male', 'email': 'smurname1@ftc.gov'}, {'Title': 'Honorable', 'firstName': 'Julissa', 'lastName': 'Spriddle', 'gender': 'Female', 'email': 'jspriddle2@chicagotribune.com'}, {'Title': 'Rev', 'firstName': 'Bernadene', 'lastName': 'Peak', 'gender': 'Female', 'email': 'bpeak3@fc2.com'}, {'Title': 'Mrs', 'firstName': 'Cass', 'lastName': 'Bernardeschi', 'gender': 'Male', 'email': 'cbernardeschi4@technorati.com'}, {'Title': 'Honorable', 'firstName': 'Aggi', 'lastName': 'Lipson', 'gender': 'Female', 'email': 'alipson5@ucoz.ru'}, {'Title': 'Ms', 'firstName': 'Trescha', 'lastName': 'Damato', 'gender': 'Female', 'email': 'tdamato6@skyrock.com'}, {'Title': 'Dr', 'firstName': 'Dav', 'lastName': 'Headon', 'gender': 'Male', 'email': 'dheadon7@ted.com'}, {'Title': 'Honorable', 'firstName': 'Nealson', 'lastName': 'Janeway', 'gender': 'Male', 'email': 'njaneway8@360.cn'}, {'Title': 'Mrs', 'firstName': 'Laney', 'lastName': 'Trobey', 'gender': 'Female', 'email': 'ltrobey9@eventbrite.com'}]\n"
     ]
    }
   ],
   "source": [
    "# OPEN & READ CSV file\n",
    "def read_csv_file(file_name, columns_to_keep):  # defines a function read_csv_file that takes the name/path of the CSV file\n",
    "    try:                                                 # with opens and closes the csv file\n",
    "        with open(file_name, newline= '') as csv_file:   # with statement to open the file safely (automatically closes it after the block)\n",
    "            csvreader = csv.DictReader(csv_file, delimiter= \",\" )  # newline='' tells python not to alter newline characters\n",
    "            return list(csvreader)\n",
    "            filered_data = []\n",
    "\n",
    "            for row in csvreader:\n",
    "                filtered_row = {col: row[col] for col in columns_to_keep if col in row}\n",
    "                filtered_data.append(filtered_row)\n",
    "            \n",
    "            return filtered_data\n",
    "        \n",
    "    except FileNotFoundError as errmsg:\n",
    "        print(\"File cannot be found\")\n",
    "        print(errmsg)\n",
    "        \n",
    "print(read_csv_file(\"user_details.csv\", columns_to_keep))"
   ]
  },
  {
   "cell_type": "code",
   "execution_count": 17,
   "metadata": {},
   "outputs": [
    {
     "name": "stdout",
     "output_type": "stream",
     "text": [
      "Cleaned file saved.\n"
     ]
    }
   ],
   "source": [
    "def read_csv_file(file_name):\n",
    "    try:\n",
    "        with open (file_name, newline='') as csv_file:\n",
    "            csvreader = csv.reader(csv_file, delimiter=',')\n",
    "            return list(csvreader)\n",
    "    except FileNotFoundError as errmsg:\n",
    "        print(\"File not been found\")\n",
    "        print(errmsg)\n",
    " \n",
    "#print(read_csv_file(\"customer_details.csv\"))\n",
    "def transform_rows(rows):\n",
    "    return [[row[2], row[3], row[5], row[9]] for row in rows]\n",
    " \n",
    "def write_csv_file(file_name, rows):\n",
    "    try:\n",
    "        with open(file_name, 'w', newline='') as file:\n",
    "            writer = csv.writer(file)\n",
    "            writer.writerows(rows)\n",
    "        print(\"Cleaned file saved.\")\n",
    "    except Exception as e:\n",
    "        print(\"Could not write file:\", e)\n",
    " \n",
    "# Main logic\n",
    "data = read_csv_file(\"customer_details.csv\")\n",
    "if data:\n",
    "    transformed = transform_rows(data)\n",
    "    write_csv_file(\"new_customer_details.csv\", transformed)"
   ]
  }
 ],
 "metadata": {
  "kernelspec": {
   "display_name": "Python 3",
   "language": "python",
   "name": "python3"
  },
  "language_info": {
   "codemirror_mode": {
    "name": "ipython",
    "version": 3
   },
   "file_extension": ".py",
   "mimetype": "text/x-python",
   "name": "python",
   "nbconvert_exporter": "python",
   "pygments_lexer": "ipython3",
   "version": "3.12.4"
  }
 },
 "nbformat": 4,
 "nbformat_minor": 2
}
